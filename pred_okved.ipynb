{
 "cells": [
  {
   "cell_type": "code",
   "execution_count": 13,
   "metadata": {},
   "outputs": [],
   "source": [
    "import pandas as pd\n",
    "import numpy as np\n",
    "import matplotlib.pyplot as plt\n",
    "import datetime\n",
    "\n",
    "from sklearn.linear_model import LogisticRegression\n",
    "from sklearn.svm import LinearSVC\n",
    "from sklearn.naive_bayes import MultinomialNB\n",
    "\n",
    "from sklearn.pipeline import Pipeline\n",
    "from sklearn.multiclass import OneVsOneClassifier, OneVsRestClassifier\n",
    "from sklearn.model_selection import cross_val_score, KFold, StratifiedKFold\n",
    "from sklearn.preprocessing import OneHotEncoder, StandardScaler, MinMaxScaler, RobustScaler\n",
    "from category_encoders import BinaryEncoder\n",
    "\n",
    "from sklearn.metrics import f1_score\n",
    "import warnings\n",
    "warnings.filterwarnings(\"ignore\")"
   ]
  },
  {
   "cell_type": "code",
   "execution_count": 2,
   "metadata": {},
   "outputs": [],
   "source": [
    "SEED = 42"
   ]
  },
  {
   "cell_type": "code",
   "execution_count": 3,
   "metadata": {},
   "outputs": [],
   "source": [
    "pays = pd.read_csv('pays.csv')\n",
    "inn_info = pd.read_csv('inn_info_public.csv')"
   ]
  },
  {
   "cell_type": "code",
   "execution_count": 4,
   "metadata": {},
   "outputs": [
    {
     "name": "stdout",
     "output_type": "stream",
     "text": [
      "hash_inn     0\n",
      "okved2       0\n",
      "region       0\n",
      "is_public    0\n",
      "dtype: int64\n",
      "hash_inn_kt       0\n",
      "hash_inn_dt       0\n",
      "week              0\n",
      "count             0\n",
      "sum            1125\n",
      "dtype: int64\n",
      "\"Pays\" Доля объектов с пропусками: 0.02%\n",
      "\"Pays\" Доля объектов у которых sum < 0: 3.44%\n",
      "\"Pays\" Минимальный sum: -0.4\n"
     ]
    }
   ],
   "source": [
    "print(inn_info.isnull().sum(), pays.isnull().sum(), sep='\\n')\n",
    "print('\"Pays\" Доля объектов с пропусками: {0:.2f}%'. format(pays.isnull().sum().sum()/pays.shape[0] * 100))\n",
    "print('\"Pays\" Доля объектов у которых sum < 0: {0:.2f}%'.format(pays[pays['sum'] < 0].shape[0]/pays.shape[0]*100))\n",
    "print('\"Pays\" Минимальный sum: {0}'.format(min(pays['sum'])))"
   ]
  },
  {
   "cell_type": "code",
   "execution_count": 5,
   "metadata": {},
   "outputs": [],
   "source": [
    "#преобразование столбца hash_inn в индекс датафрейма\n",
    "inn_info = inn_info.sort_values(by='hash_inn').reset_index(drop=True)\n",
    "inn_info.set_index('hash_inn', inplace=True)\n",
    "\n",
    "#удаление объектов с пропусками в pays\n",
    "pays.dropna(inplace=True)\n",
    "\n",
    "#удаление объектов с sum < 0\n",
    "pays.drop(pays[pays['sum'] <= 0].index, axis=0, inplace=True)\n",
    "\n",
    "#так как минимальное отрицательно число sum = -0.4, можно предположить, что \n",
    "#все такие объекты имеют sum=0, то есть выполнялись пустые транзацкии\n",
    "#pays.loc[pays['sum'] <= 0, 'sum'] = 0"
   ]
  },
  {
   "cell_type": "code",
   "execution_count": 6,
   "metadata": {},
   "outputs": [],
   "source": [
    "#dummy кодирование для учета показателей week\n",
    "pays = pays.join(pd.get_dummies(pays['week'], drop_first=False, prefix='week'))"
   ]
  },
  {
   "cell_type": "code",
   "execution_count": 7,
   "metadata": {},
   "outputs": [],
   "source": [
    "#формирование признаков\n",
    "\n",
    "##посмотрим на количетсво и суммы исходящих и входящих транзакций по одному инн\n",
    "#pays_not_eq = pays[pays['hash_inn_kt'] == pays['hash_inn_dt']]\n",
    "inn_count_send = pays.groupby(by='hash_inn_kt')['count'].sum()\n",
    "inn_count_get = pays.groupby(by='hash_inn_dt')['count'].sum()\n",
    "inn_sum_send = pays.groupby(by='hash_inn_kt')['sum'].sum()\n",
    "inn_sum_get = pays.groupby(by='hash_inn_dt')['sum'].sum()\n",
    "\n",
    "#pays_eq = pays[pays['hash_inn_kt'] == pays['hash_inn_dt']]\n",
    "#pays_kt_eq_dt_count = pays_eq.groupby(by='hash_inn_kt')['count'].sum()\n",
    "#pays_kt_eq_dt_sum = pays_eq.groupby(by='hash_inn_kt')['sum'].sum()\n",
    "\n",
    "inn_count_send = pd.DataFrame(inn_count_send.values, index=inn_count_send.index, columns=['count_send'])\n",
    "inn_count_get = pd.DataFrame(inn_count_get.values, index=inn_count_get.index, columns=['count_get'])\n",
    "inn_sum_send = pd.DataFrame(inn_sum_send.values, index=inn_sum_send.index, columns=['sum_send'])\n",
    "inn_sum_get = pd.DataFrame(inn_sum_get.values, index=inn_sum_get.index, columns=['sum_get'])\n",
    "\n",
    "#pays_kt_eq_dt_count = pd.DataFrame(pays_kt_eq_dt_count.values,index=pays_kt_eq_dt_count.index,columns=['count_kt_eq_dt'])\n",
    "#pays_kt_eq_dt_sum = pd.DataFrame(pays_kt_eq_dt_sum.values,index=pays_kt_eq_dt_sum.index,columns=['sum_kt_eq_dt'])\n",
    "\n",
    "##некоторые инн делали транзакции сами себе, найдем их и дальше пометим\n",
    "inn_kt_eq_dt = pays.loc[pays['hash_inn_kt'] == pays['hash_inn_dt'], 'hash_inn_kt'].unique()\n",
    "\n",
    "\n",
    "##добавление учета недель и по скольким инн от конкретного инн было сделано транзакций и наоборот\n",
    "week_range_send = []\n",
    "week_range_get = []\n",
    "\n",
    "for i in range(len(pays['week'].unique())):\n",
    "    w_send = pays.groupby(by='hash_inn_kt')['week_'+'{0}'.format(i)].sum()\n",
    "    w_get = pays.groupby(by='hash_inn_dt')['week_'+'{0}'.format(i)].sum()\n",
    "    week_range_send.append(pd.DataFrame(w_send.values, index=w_send.index, columns=['week_send_'+'{0}'.format(i)]))\n",
    "    week_range_get.append(pd.DataFrame(w_get.values, index=w_get.index, columns=['week_get_'+'{0}'.format(i)]))"
   ]
  },
  {
   "cell_type": "code",
   "execution_count": 8,
   "metadata": {},
   "outputs": [],
   "source": [
    "#добавление построенных признаков в датафрейм\n",
    "inn_info = inn_info.join([inn_count_send, inn_count_get, inn_sum_send, inn_sum_get])\n",
    "\n",
    "inn_info['kt_eq_dt'] = 0\n",
    "inn_info.loc[inn_kt_eq_dt, 'kt_eq_dt'] = 1\n",
    "\n",
    "#inn_info = inn_info.join([pays_kt_eq_dt_count, pays_kt_eq_dt_sum])\n",
    "\n",
    "for week_send in week_range_send:\n",
    "    inn_info = inn_info.join(week_send)\n",
    "for week_get in week_range_get:\n",
    "    inn_info = inn_info.join(week_get)\n",
    "\n",
    "##так как где-то получились nan, то заменим на 0, посколько таких событий просто напросто не было\n",
    "inn_info.fillna(0, inplace=True)"
   ]
  },
  {
   "cell_type": "code",
   "execution_count": 9,
   "metadata": {},
   "outputs": [],
   "source": [
    "#прологарифмируем часть признаков\n",
    "inn_info['count_send'] = inn_info['count_send'].apply(lambda x: np.log(x+1))\n",
    "inn_info['count_get'] = inn_info['count_get'].apply(lambda x: np.log(x+1))\n",
    "inn_info['sum_get'] = inn_info['sum_get'].apply(lambda x: np.log(x+1))\n",
    "inn_info['sum_send'] = inn_info['sum_send'].apply(lambda x: np.log(x+1))"
   ]
  },
  {
   "cell_type": "code",
   "execution_count": 10,
   "metadata": {},
   "outputs": [],
   "source": [
    "#получение обучающей выборки, которая будет оцениваться на кросс-валидации\n",
    "train = inn_info[inn_info['okved2'] != -1]\n",
    "train = train.drop(['is_public'], axis=1)\n",
    "test = inn_info[inn_info['okved2'] == -1]\n",
    "test = test.drop(['is_public'], axis=1)"
   ]
  },
  {
   "cell_type": "code",
   "execution_count": 11,
   "metadata": {},
   "outputs": [],
   "source": [
    "#данный способ кодирования показал наилучшие результаты в сравнении с некоторыми\n",
    "#другими из category_encoders\n",
    "ohe = OneHotEncoder(sparse=False, handle_unknown='ignore')\n",
    "region_train_ohe = ohe.fit_transform(train['region'].values.reshape(-1,1))\n",
    "X_train = train.drop(['okved2', 'region'], axis=1)\n",
    "X_train_ohe = np.hstack([X_train.values, region_train_ohe])\n",
    "y_train = train['okved2']\n",
    "\n",
    "region_test_ohe = ohe.transform(test['region'].values.reshape(-1,1))\n",
    "X_test = test.drop(['okved2', 'region'], axis=1)\n",
    "X_test_ohe = np.hstack([X_test, region_test_ohe])\n",
    "\n",
    "y_test = test['okved2'] #по сути не нужно, так как там просто -1 везде"
   ]
  },
  {
   "cell_type": "markdown",
   "metadata": {},
   "source": [
    "### CV on part of data"
   ]
  },
  {
   "cell_type": "code",
   "execution_count": 12,
   "metadata": {},
   "outputs": [],
   "source": [
    "#возьмем часть выборки для ускорения обучения и получения результатов\n",
    "count_of_part = 12000\n",
    "X_part = X_train_ohe[:count_of_part,:]\n",
    "y_part = y_train.iloc[:count_of_part]"
   ]
  },
  {
   "cell_type": "code",
   "execution_count": 14,
   "metadata": {},
   "outputs": [
    {
     "name": "stdout",
     "output_type": "stream",
     "text": [
      "Time taken: 0:02:07.385493\n",
      "f1_weighted score: 0.1795438818353138\n"
     ]
    }
   ],
   "source": [
    "#данные разрежены, воспользуемся линейными классификаторами: MultinomialNB, LinearSVC\n",
    "#и LogisticRegression, последний показал себя лучше всех, оставил его\n",
    "#для масштабирования проверял 3 варианта: StandardScaler, MinMaxScaler, RobustScaler\n",
    "#последний дает наилучшее качество\n",
    "start = datetime.datetime.now()\n",
    "scaler = RobustScaler()\n",
    "clf = OneVsOneClassifier(LinearSVC(C=3, random_state=SEED))\n",
    "pipeline = Pipeline([('transformer', scaler), ('estimator', clf)])\n",
    "cv = StratifiedKFold(n_splits = 5, shuffle=True, random_state=SEED)\n",
    "scores = cross_val_score(estimator=pipeline, X = X_part, y = y_part,\n",
    "                          cv=cv, scoring='f1_weighted', n_jobs=-1)\n",
    "print('Time taken: {0}'.format(datetime.datetime.now() - start))\n",
    "print('f1_weighted score: {0}'.format(scores.mean()))"
   ]
  },
  {
   "cell_type": "code",
   "execution_count": 15,
   "metadata": {},
   "outputs": [
    {
     "name": "stdout",
     "output_type": "stream",
     "text": [
      "Time taken: 0:04:02.868633\n",
      "f1_weighted score: 0.17609530694174674\n"
     ]
    }
   ],
   "source": [
    "start = datetime.datetime.now()\n",
    "scaler = RobustScaler()\n",
    "clf = LinearSVC(C=3, random_state=SEED)#стратегия ovr по дефолту\n",
    "pipeline = Pipeline([('transformer', scaler), ('estimator', clf)])\n",
    "cv = StratifiedKFold(n_splits = 5, shuffle=True, random_state=SEED)\n",
    "scores = cross_val_score(estimator=pipeline, X = X_part, y = y_part,\n",
    "                          cv=cv, scoring='f1_weighted', n_jobs=-1)\n",
    "print('Time taken: {0}'.format(datetime.datetime.now() - start))\n",
    "print('f1_weighted score: {0}'.format(scores.mean()))"
   ]
  },
  {
   "cell_type": "code",
   "execution_count": 16,
   "metadata": {},
   "outputs": [
    {
     "name": "stdout",
     "output_type": "stream",
     "text": [
      "Time taken: 0:00:47.783284\n",
      "f1_weighted score: 0.15112802060361874\n"
     ]
    }
   ],
   "source": [
    "start = datetime.datetime.now()\n",
    "scaler = MinMaxScaler()\n",
    "clf = OneVsOneClassifier(MultinomialNB())\n",
    "pipeline = Pipeline([('transformer', scaler), ('estimator', clf)])\n",
    "cv = StratifiedKFold(n_splits = 5, shuffle=True, random_state=SEED)\n",
    "scores = cross_val_score(estimator=pipeline, X = X_part, y = y_part,\n",
    "                          cv=cv, scoring='f1_weighted', n_jobs=-1)\n",
    "print('Time taken: {0}'.format(datetime.datetime.now() - start))\n",
    "print('f1_weighted score: {0}'.format(scores.mean()))"
   ]
  },
  {
   "cell_type": "code",
   "execution_count": 17,
   "metadata": {},
   "outputs": [
    {
     "name": "stdout",
     "output_type": "stream",
     "text": [
      "Time taken: 0:00:02.725562\n",
      "f1_weighted score: 0.1525948173821889\n"
     ]
    }
   ],
   "source": [
    "start = datetime.datetime.now()\n",
    "scaler = MinMaxScaler()\n",
    "clf = OneVsRestClassifier(MultinomialNB())\n",
    "pipeline = Pipeline([('transformer', scaler), ('estimator', clf)])\n",
    "cv = StratifiedKFold(n_splits = 5, shuffle=True, random_state=SEED)\n",
    "scores = cross_val_score(estimator=pipeline, X = X_part, y = y_part,\n",
    "                          cv=cv, scoring='f1_weighted', n_jobs=-1)\n",
    "print('Time taken: {0}'.format(datetime.datetime.now() - start))\n",
    "print('f1_weighted score: {0}'.format(scores.mean()))"
   ]
  },
  {
   "cell_type": "code",
   "execution_count": 18,
   "metadata": {},
   "outputs": [
    {
     "name": "stdout",
     "output_type": "stream",
     "text": [
      "Time taken: 0:01:23.466534\n",
      "f1_weighted score: 0.18223923133943126\n"
     ]
    }
   ],
   "source": [
    "start = datetime.datetime.now()\n",
    "scaler = RobustScaler()\n",
    "clf = LogisticRegression(C=1, random_state=SEED)\n",
    "pipeline = Pipeline([('transformer', scaler), ('estimator', clf)])\n",
    "cv = StratifiedKFold(n_splits = 5, shuffle=True, random_state=SEED)\n",
    "scores = cross_val_score(estimator=pipeline, X = X_part, y = y_part,\n",
    "                          cv=cv, scoring='f1_weighted', n_jobs=-1)\n",
    "print('Time taken: {0}'.format(datetime.datetime.now() - start))\n",
    "print('f1_weighted score: {0}'.format(scores.mean()))"
   ]
  },
  {
   "cell_type": "code",
   "execution_count": 22,
   "metadata": {},
   "outputs": [
    {
     "name": "stdout",
     "output_type": "stream",
     "text": [
      "Time taken: 0:00:24.331267\n",
      "f1_weighted score: 0.1742611638997646\n"
     ]
    }
   ],
   "source": [
    "start = datetime.datetime.now()\n",
    "scaler = MinMaxScaler()\n",
    "clf = LogisticRegression(C=1, random_state=SEED)\n",
    "pipeline = Pipeline([('transformer', scaler), ('estimator', clf)])\n",
    "cv = StratifiedKFold(n_splits = 5, shuffle=True, random_state=SEED)\n",
    "scores = cross_val_score(estimator=pipeline, X = X_part, y = y_part,\n",
    "                          cv=cv, scoring='f1_weighted', n_jobs=-1)\n",
    "print('Time taken: {0}'.format(datetime.datetime.now() - start))\n",
    "print('f1_weighted score: {0}'.format(scores.mean()))"
   ]
  },
  {
   "cell_type": "markdown",
   "metadata": {},
   "source": [
    "### Fit model on all data"
   ]
  },
  {
   "cell_type": "markdown",
   "metadata": {},
   "source": [
    "baseline f1_weigted = 0.12"
   ]
  },
  {
   "cell_type": "code",
   "execution_count": 23,
   "metadata": {},
   "outputs": [],
   "source": [
    "scaler = RobustScaler()\n",
    "X_train_scaled = scaler.fit_transform(X_train_ohe)\n",
    "X_test_scaled = scaler.transform(X_test_ohe)"
   ]
  },
  {
   "cell_type": "code",
   "execution_count": null,
   "metadata": {},
   "outputs": [],
   "source": [
    "start = datetime.datetime.now()\n",
    "clf = LogisticRegression(solver='lbfgs', max_iter=500, n_jobs=-1)\n",
    "clf.fit(X_train_scaled, y_train)\n",
    "print('Time taken: {0}'.format(datetime.datetime.now() - start))"
   ]
  },
  {
   "cell_type": "code",
   "execution_count": null,
   "metadata": {},
   "outputs": [],
   "source": [
    "f1_score(y_train, clf.predict(X_train_scaled), average='weighted')\n",
    "#0.17701037830683974"
   ]
  },
  {
   "cell_type": "code",
   "execution_count": null,
   "metadata": {},
   "outputs": [],
   "source": [
    "y_pred = clf.predict(X_test_scaled)\n",
    "pd.DataFrame({'hash_inn':X_test.index,'y':y_pred}).to_csv('okved_data.csv', index=False)\n",
    "#f1_weighted on test = 0.18 (got to know when send answers)"
   ]
  },
  {
   "cell_type": "code",
   "execution_count": null,
   "metadata": {},
   "outputs": [],
   "source": []
  }
 ],
 "metadata": {
  "kernelspec": {
   "display_name": "Python 3",
   "language": "python",
   "name": "python3"
  },
  "language_info": {
   "codemirror_mode": {
    "name": "ipython",
    "version": 3
   },
   "file_extension": ".py",
   "mimetype": "text/x-python",
   "name": "python",
   "nbconvert_exporter": "python",
   "pygments_lexer": "ipython3",
   "version": "3.6.8"
  }
 },
 "nbformat": 4,
 "nbformat_minor": 2
}
